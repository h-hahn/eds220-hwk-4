{
 "cells": [
  {
   "cell_type": "markdown",
   "id": "1021ffb5-434f-41b8-8ef6-8be99a724583",
   "metadata": {},
   "source": [
    "# Task 2 - Landsat 8 false color image\n",
    "\n",
    "## General instructions\n",
    "\n",
    "First, update the following cell to have a link to your Homework 4 GitHub repository\n",
    "\n",
    "**UPDATE THIS LINK** https://github.com/h-hahn/eds220-hwk-4\n",
    "\n",
    "Add comments for all your code and commit as needed. Err on the side of commenting and commiting too much for now.\n",
    "\n",
    "## Overview\n",
    "The goal of this task is to create a false color image showing the fire scar of the Thomas fire in 2017. \n",
    "Read more about false color images here:\n",
    "[NASA Earth Observatory - Why is that Forest Red and that Cloud Blue?\n",
    "How to Interpret a False-Color Satellite Image](https://earthobservatory.nasa.gov/features/FalseColor)\n",
    "\n",
    "## About the data\n",
    "\n",
    "In this task you will use two datsets:\n",
    "\n",
    "**First dataset**\n",
    "\n",
    "A simplified collection of bands (red, green, blue, near-infrared and shortwave infrared) from the Landsat Collection 2 Level-2 atmosperically corrected surface reflectance data, collected by the Landsat 8 satellite. \n",
    "\n",
    "Information about Landsat bands from USGS:\n",
    "\n",
    "- [What are the band designations for the Landsat satellites?](https://www.usgs.gov/faqs/what-are-band-designations-landsat-satellites)\n",
    "\n",
    "-[Common Landsat Band Combinations](https://www.usgs.gov/media/images/common-landsat-band-combinations)\n",
    "\n",
    "-[How do I use a scale factor with Landsat Level-2 science products?](https://www.usgs.gov/faqs/how-do-i-use-a-scale-factor-landsat-level-2-science-products)\n",
    "\n",
    "\n",
    "The data was accessed and pre-processed in the Microsoft Planetary Computer to remove data outside land and coarsen the spatial resolution ([Landsat Collection in MPC](https://planetarycomputer.microsoft.com/dataset/landsat-c2-l2)). Data should be used for visualization purposes only. \n",
    "\n",
    "\n",
    "**Second dataset**\n",
    "\n",
    "A shapefile of fire perimeters in California during 2017. \n",
    "The [complete file can be accessed in the CA state geoportal](https://gis.data.ca.gov/datasets/CALFIRE-Forestry::california-fire-perimeters-all-1/about).\n",
    "\n",
    "## File management\n",
    "All your data files must be  inside a directory named 'data' **in your gitignore**. \n",
    "\n",
    "## Data access\n",
    "All data is in the Canvas-week7-homework zip file."
   ]
  },
  {
   "cell_type": "markdown",
   "id": "7d3d39d4-75fd-42da-a3a5-10fd7167695a",
   "metadata": {},
   "source": [
    "## FINAL CODE\n",
    "\n",
    "You will use the next cell at the end of the task. Leave it blank for now."
   ]
  },
  {
   "cell_type": "code",
   "execution_count": null,
   "id": "a9990f15-0a53-4d0b-955c-14da0315243d",
   "metadata": {},
   "outputs": [],
   "source": [
    "### ===== FINAL CODE =====\n",
    "\n",
    "# import libraries and functions\n",
    "import geopandas as gpd\n",
    "import os\n",
    "import rioxarray as rioxr\n",
    "import matplotlib.pyplot as plt\n",
    "\n",
    "#------------------------------------------------------\n",
    "\n",
    "# import landsat file\n",
    "landsat1 = os.path.join(os.getcwd(),'data','landsat8-2018-01-26-sb-simplified.nc')\n",
    "landsat = rioxr.open_rasterio(landsat1)\n",
    "\n",
    "# import fire perimiters dataset\n",
    "cal_fire = gpd.read_file('data/California_Fire_Perimeters_2017')\n",
    "\n",
    "# drop band from landsat data\n",
    "landsat = landsat.squeeze().drop('band')\n",
    "\n",
    "# set california fire perimeter crs to landsat crs\n",
    "cal_fire = cal_fire.to_crs(landsat.rio.crs)\n",
    "\n",
    "# select for thomas fire perimeter\n",
    "thomas_fire = cal_fire[cal_fire['FIRE_NAME'] == 'THOMAS']\n",
    "\n",
    "#------------------------------------------------------\n",
    "\n",
    "# create axis\n",
    "fig, ax = plt.subplots()\n",
    "\n",
    "# -----------------------------------------------------\n",
    "\n",
    "# plot thomas fire perimeter\n",
    "thomas_fire.plot(ax = ax,\n",
    "                 facecolor=\"none\",\n",
    "                 edgecolor = 'black')\n",
    "\n",
    "#------------------------------------------------------\n",
    "\n",
    "# plot the false color image\n",
    "landsat[['swir22', 'nir08', 'red']].to_array().plot.imshow(robust = True)\n",
    "\n",
    "# -----------------------------------------------------\n",
    "\n",
    "# set the title \n",
    "ax.set_title('Thomas Fire Perimeter in Santa Barbara County (False Color Imagery)', \n",
    "             fontsize = 15,\n",
    "             x=0.5, y=1.1) # move title up\n",
    "\n",
    "# show plot\n",
    "plt.show()"
   ]
  },
  {
   "cell_type": "markdown",
   "id": "4d998a14-2fce-48b1-824d-db11f48815b5",
   "metadata": {},
   "source": [
    "## Import libraries and functions"
   ]
  },
  {
   "cell_type": "code",
   "execution_count": null,
   "id": "0b55b9d6-bf95-429d-bd4c-0d917eb79508",
   "metadata": {
    "tags": []
   },
   "outputs": [],
   "source": [
    "# import libraries and functions\n",
    "import geopandas as gpd\n",
    "import os\n",
    "import rioxarray as rioxr\n",
    "import matplotlib.pyplot as plt\n",
    "import matplotlib.lines as mlines"
   ]
  },
  {
   "cell_type": "markdown",
   "id": "d95a8a8d-9cf5-4c1c-87b1-8bb72a493cee",
   "metadata": {},
   "source": [
    "## Import data"
   ]
  },
  {
   "cell_type": "code",
   "execution_count": null,
   "id": "a0edcc64-f8bb-45fd-b49a-26e59a8749e1",
   "metadata": {
    "tags": []
   },
   "outputs": [],
   "source": [
    "# import landsat file\n",
    "landsat1 = os.path.join(os.getcwd(),'data','landsat8-2018-01-26-sb-simplified.nc')\n",
    "landsat = rioxr.open_rasterio(landsat1)\n",
    "\n",
    "# import fire perimiters dataset\n",
    "cal_fire = gpd.read_file('data/California_Fire_Perimeters_2017')"
   ]
  },
  {
   "cell_type": "markdown",
   "id": "ae0cf177-7132-4316-a3ec-0b1e3bd2d583",
   "metadata": {},
   "source": [
    "## Exploration \n",
    "\n",
    "Use the next cell(s) to perform relevant explorations of these datasets."
   ]
  },
  {
   "cell_type": "code",
   "execution_count": null,
   "id": "1d92783c-ca78-4d0b-a7b9-4208d7fd1f9a",
   "metadata": {
    "tags": []
   },
   "outputs": [],
   "source": [
    "# look at crs of dataframes\n",
    "# they are not the same\n",
    "cal_fire.crs == landsat.rio.crs"
   ]
  },
  {
   "cell_type": "code",
   "execution_count": null,
   "id": "2e697311-8f7e-42c6-af67-cd6b42096891",
   "metadata": {
    "tags": []
   },
   "outputs": [],
   "source": [
    "# look at head of landsat\n",
    "landsat.head()"
   ]
  },
  {
   "cell_type": "code",
   "execution_count": null,
   "id": "e359c0af-0ac1-4419-9b7f-85e149171bc8",
   "metadata": {
    "tags": []
   },
   "outputs": [],
   "source": [
    "# look at california perimiter head\n",
    "cal_fire.head()"
   ]
  },
  {
   "cell_type": "markdown",
   "id": "ebabda3e-7860-492f-9504-7dabb83a230f",
   "metadata": {},
   "source": [
    "## Updates\n",
    "\n",
    "If there are any updates needed to the data to plot the true and false color images, perform them in the next cells (you may add as many as you need). \n",
    "Comment appropriately."
   ]
  },
  {
   "cell_type": "code",
   "execution_count": null,
   "id": "d6d43909-7d99-4ebf-b494-c388565a8f51",
   "metadata": {},
   "outputs": [],
   "source": [
    "# drop band from landsat data\n",
    "landsat = landsat.squeeze().drop('band')\n",
    "\n",
    "# set california fire perimeter crs to landsat crs\n",
    "cal_fire = cal_fire.to_crs(landsat.rio.crs)"
   ]
  },
  {
   "cell_type": "markdown",
   "id": "854629c0-e3f3-41ae-b48a-44f71eaf6246",
   "metadata": {},
   "source": [
    "## True color image\n",
    "\n",
    "Without creating any new variables:\n",
    "\n",
    "Select the red, green and blue variables (in that order) of the `xarray.Dataset`, convert it to a `numpy.array` using the `to_array()` method, and then use `.plot.imshow()` to create an RGB image with the data. (There will be a warning)"
   ]
  },
  {
   "cell_type": "code",
   "execution_count": null,
   "id": "540704f7-f3f2-494c-93d5-af625f8a9376",
   "metadata": {
    "tags": []
   },
   "outputs": [],
   "source": [
    "# select red, green, blue, convert to numpy array, plot in one line\n",
    "landsat[['red','blue','green']].to_array().plot.imshow()"
   ]
  },
  {
   "cell_type": "markdown",
   "id": "e904a390-d9d2-4116-8200-b5efc2509982",
   "metadata": {},
   "source": [
    "Adjust the scale used for plotting the bands to get a true color image. \n",
    "HINT: [Check the `robust` parameter](https://matplotlib.org/stable/api/_as_gen/matplotlib.pyplot.imshow.html)\n",
    "The issue here is the clouds: their RGB values are outliers and cause the other values to be squished when plotting. "
   ]
  },
  {
   "cell_type": "code",
   "execution_count": null,
   "id": "68cd1405-af6f-4383-ba78-ac077b1facf5",
   "metadata": {
    "tags": []
   },
   "outputs": [],
   "source": [
    "# select red, green, blue, convert to numpy array, plot in one line, make robust = True\n",
    "landsat[['red', 'blue', 'green']].to_array().plot.imshow(robust = True)"
   ]
  },
  {
   "cell_type": "markdown",
   "id": "e2fb06dd-68d6-4a41-841b-34e37daacc28",
   "metadata": {},
   "source": [
    "## False color image\n",
    "Without creating any new variables:\n",
    "\n",
    "Create a false color image by plotting the short-wave infrared (swir22), near-infrared, and red variables (in that order)."
   ]
  },
  {
   "cell_type": "code",
   "execution_count": null,
   "id": "792a5032-f059-4d4e-b150-0e38f024157e",
   "metadata": {
    "tags": []
   },
   "outputs": [],
   "source": [
    "# create false color image with swir22, nir, red\n",
    "# convert to numpy array\n",
    "# then plot\n",
    "\n",
    "landsat[['swir22', 'nir08', 'red']].to_array().plot.imshow(robust = True)"
   ]
  },
  {
   "cell_type": "markdown",
   "id": "70e0fcf4-09aa-4eeb-bd10-2d0134959517",
   "metadata": {},
   "source": [
    "## Updates\n",
    "\n",
    "If there are any updates needed to the data to create the map, perform them in the next cells (you may add as many as you need). \n",
    "Comment appropriately."
   ]
  },
  {
   "cell_type": "code",
   "execution_count": null,
   "id": "bf114921-cff7-46c3-88c4-3941119e0536",
   "metadata": {
    "tags": []
   },
   "outputs": [],
   "source": [
    "# select for thomas fire perimeter\n",
    "thomas_fire = cal_fire[cal_fire['FIRE_NAME'] == 'THOMAS']"
   ]
  },
  {
   "cell_type": "markdown",
   "id": "ace40c8f-64fb-4769-bd32-71e170423841",
   "metadata": {},
   "source": [
    "## Map\n",
    "\n",
    "Create a map showing the shortwave infrared/nir/ ed false color image together with the Thomas fire perimeter. \n",
    "Customize it appropriately."
   ]
  },
  {
   "cell_type": "code",
   "execution_count": null,
   "id": "fe4799fa-ef59-4216-8da8-a306036b24fc",
   "metadata": {},
   "outputs": [],
   "source": [
    "# create axis\n",
    "fig, ax = plt.subplots()\n",
    "\n",
    "# -----------------------------------------------------\n",
    "\n",
    "# plot thomas fire perimeter\n",
    "thomas_fire.plot(ax = ax,\n",
    "                 facecolor=\"none\",\n",
    "                edgecolor = 'black')\n",
    "\n",
    "#------------------------------------------------------\n",
    "\n",
    "# plot the false color image\n",
    "landsat[['swir22', 'nir08', 'red']].to_array().plot.imshow(robust = True)\n",
    "\n",
    "# -----------------------------------------------------\n",
    "\n",
    "# set the title \n",
    "ax.set_title('Thomas Fire Perimeter in Santa Barbara County (False Color Imagery)', \n",
    "             fontsize = 15,\n",
    "             x=0.5, y=1.1) # move title up\n",
    "\n",
    "\n",
    "# show plot\n",
    "plt.show()"
   ]
  },
  {
   "cell_type": "markdown",
   "id": "28ec8407-c885-4676-b76a-15f43044bd65",
   "metadata": {},
   "source": [
    "## Final code\n",
    "\n",
    "Collect all the relevant code into the first blank cell of the notebook titled \"FINAL CODE\". This single cell will have the end-to-end workflow: from importing libraries and loading the data, to producing the graph. The only ouput of this cell should be the plot you produced in the previous exercise. \n",
    "\n",
    "Add divisions for relevant sections and comment appropriately."
   ]
  }
 ],
 "metadata": {
  "kernelspec": {
   "display_name": "Anaconda 3 (Base)",
   "language": "python",
   "name": "base"
  },
  "language_info": {
   "codemirror_mode": {
    "name": "ipython",
    "version": 3
   },
   "file_extension": ".py",
   "mimetype": "text/x-python",
   "name": "python",
   "nbconvert_exporter": "python",
   "pygments_lexer": "ipython3",
   "version": "3.9.13"
  }
 },
 "nbformat": 4,
 "nbformat_minor": 5
}
